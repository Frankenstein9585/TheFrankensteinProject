{
 "metadata": {
  "kernelspec": {
   "language": "python",
   "display_name": "Python 3",
   "name": "python3"
  },
  "language_info": {
   "pygments_lexer": "ipython3",
   "nbconvert_exporter": "python",
   "version": "3.6.4",
   "file_extension": ".py",
   "codemirror_mode": {
    "name": "ipython",
    "version": 3
   },
   "name": "python",
   "mimetype": "text/x-python"
  },
  "kaggle": {
   "accelerator": "gpu",
   "dataSources": [
    {
     "sourceId": 4364795,
     "sourceType": "datasetVersion",
     "datasetId": 2274665
    }
   ],
   "dockerImageVersionId": 30197,
   "isInternetEnabled": false,
   "language": "python",
   "sourceType": "notebook",
   "isGpuEnabled": true
  }
 },
 "nbformat_minor": 4,
 "nbformat": 4,
 "cells": [
  {
   "cell_type": "markdown",
   "source": [
    "### Dataset Download"
   ],
   "metadata": {
    "execution": {
     "iopub.status.busy": "2022-06-20T10:33:56.943198Z",
     "iopub.execute_input": "2022-06-20T10:33:56.943768Z",
     "iopub.status.idle": "2022-06-20T10:34:46.363659Z",
     "shell.execute_reply.started": "2022-06-20T10:33:56.943692Z",
     "shell.execute_reply": "2022-06-20T10:34:46.362307Z"
    }
   }
  },
  {
   "cell_type": "code",
   "source": [
    "import urllib\n",
    "\n",
    "urllib.request.urlretrieve('https://sc.link/AO5l', 'subsample.zip')\n",
    "!mkdir -p dataset/\n",
    "!unzip -q subsample.zip -d dataset/subsample\n",
    "!rm -r subsample.zip\n",
    "!scp -r /kaggle/input/hagrid/ann_subsample /kaggle/working/dataset/ann_subsample"
   ],
   "metadata": {
    "execution": {
     "iopub.status.busy": "2022-10-22T14:45:00.900232Z",
     "iopub.execute_input": "2022-10-22T14:45:00.900629Z",
     "iopub.status.idle": "2022-10-22T14:49:15.820292Z",
     "shell.execute_reply.started": "2022-10-22T14:45:00.900597Z",
     "shell.execute_reply": "2022-10-22T14:49:15.819144Z"
    },
    "trusted": true,
    "ExecuteTime": {
     "end_time": "2024-06-17T15:20:24.574521Z",
     "start_time": "2024-06-17T15:20:00.309596Z"
    }
   },
   "execution_count": 1,
   "outputs": [
    {
     "ename": "URLError",
     "evalue": "<urlopen error [WinError 10060] A connection attempt failed because the connected party did not properly respond after a period of time, or established connection failed because connected host has failed to respond>",
     "output_type": "error",
     "traceback": [
      "\u001B[1;31m---------------------------------------------------------------------------\u001B[0m",
      "\u001B[1;31mTimeoutError\u001B[0m                              Traceback (most recent call last)",
      "File \u001B[1;32m~\\AppData\\Local\\Programs\\Python\\Python311\\Lib\\urllib\\request.py:1348\u001B[0m, in \u001B[0;36mAbstractHTTPHandler.do_open\u001B[1;34m(self, http_class, req, **http_conn_args)\u001B[0m\n\u001B[0;32m   1347\u001B[0m \u001B[38;5;28;01mtry\u001B[39;00m:\n\u001B[1;32m-> 1348\u001B[0m     \u001B[43mh\u001B[49m\u001B[38;5;241;43m.\u001B[39;49m\u001B[43mrequest\u001B[49m\u001B[43m(\u001B[49m\u001B[43mreq\u001B[49m\u001B[38;5;241;43m.\u001B[39;49m\u001B[43mget_method\u001B[49m\u001B[43m(\u001B[49m\u001B[43m)\u001B[49m\u001B[43m,\u001B[49m\u001B[43m \u001B[49m\u001B[43mreq\u001B[49m\u001B[38;5;241;43m.\u001B[39;49m\u001B[43mselector\u001B[49m\u001B[43m,\u001B[49m\u001B[43m \u001B[49m\u001B[43mreq\u001B[49m\u001B[38;5;241;43m.\u001B[39;49m\u001B[43mdata\u001B[49m\u001B[43m,\u001B[49m\u001B[43m \u001B[49m\u001B[43mheaders\u001B[49m\u001B[43m,\u001B[49m\n\u001B[0;32m   1349\u001B[0m \u001B[43m              \u001B[49m\u001B[43mencode_chunked\u001B[49m\u001B[38;5;241;43m=\u001B[39;49m\u001B[43mreq\u001B[49m\u001B[38;5;241;43m.\u001B[39;49m\u001B[43mhas_header\u001B[49m\u001B[43m(\u001B[49m\u001B[38;5;124;43m'\u001B[39;49m\u001B[38;5;124;43mTransfer-encoding\u001B[39;49m\u001B[38;5;124;43m'\u001B[39;49m\u001B[43m)\u001B[49m\u001B[43m)\u001B[49m\n\u001B[0;32m   1350\u001B[0m \u001B[38;5;28;01mexcept\u001B[39;00m \u001B[38;5;167;01mOSError\u001B[39;00m \u001B[38;5;28;01mas\u001B[39;00m err: \u001B[38;5;66;03m# timeout error\u001B[39;00m\n",
      "File \u001B[1;32m~\\AppData\\Local\\Programs\\Python\\Python311\\Lib\\http\\client.py:1282\u001B[0m, in \u001B[0;36mHTTPConnection.request\u001B[1;34m(self, method, url, body, headers, encode_chunked)\u001B[0m\n\u001B[0;32m   1281\u001B[0m \u001B[38;5;250m\u001B[39m\u001B[38;5;124;03m\"\"\"Send a complete request to the server.\"\"\"\u001B[39;00m\n\u001B[1;32m-> 1282\u001B[0m \u001B[38;5;28;43mself\u001B[39;49m\u001B[38;5;241;43m.\u001B[39;49m\u001B[43m_send_request\u001B[49m\u001B[43m(\u001B[49m\u001B[43mmethod\u001B[49m\u001B[43m,\u001B[49m\u001B[43m \u001B[49m\u001B[43murl\u001B[49m\u001B[43m,\u001B[49m\u001B[43m \u001B[49m\u001B[43mbody\u001B[49m\u001B[43m,\u001B[49m\u001B[43m \u001B[49m\u001B[43mheaders\u001B[49m\u001B[43m,\u001B[49m\u001B[43m \u001B[49m\u001B[43mencode_chunked\u001B[49m\u001B[43m)\u001B[49m\n",
      "File \u001B[1;32m~\\AppData\\Local\\Programs\\Python\\Python311\\Lib\\http\\client.py:1328\u001B[0m, in \u001B[0;36mHTTPConnection._send_request\u001B[1;34m(self, method, url, body, headers, encode_chunked)\u001B[0m\n\u001B[0;32m   1327\u001B[0m     body \u001B[38;5;241m=\u001B[39m _encode(body, \u001B[38;5;124m'\u001B[39m\u001B[38;5;124mbody\u001B[39m\u001B[38;5;124m'\u001B[39m)\n\u001B[1;32m-> 1328\u001B[0m \u001B[38;5;28;43mself\u001B[39;49m\u001B[38;5;241;43m.\u001B[39;49m\u001B[43mendheaders\u001B[49m\u001B[43m(\u001B[49m\u001B[43mbody\u001B[49m\u001B[43m,\u001B[49m\u001B[43m \u001B[49m\u001B[43mencode_chunked\u001B[49m\u001B[38;5;241;43m=\u001B[39;49m\u001B[43mencode_chunked\u001B[49m\u001B[43m)\u001B[49m\n",
      "File \u001B[1;32m~\\AppData\\Local\\Programs\\Python\\Python311\\Lib\\http\\client.py:1277\u001B[0m, in \u001B[0;36mHTTPConnection.endheaders\u001B[1;34m(self, message_body, encode_chunked)\u001B[0m\n\u001B[0;32m   1276\u001B[0m     \u001B[38;5;28;01mraise\u001B[39;00m CannotSendHeader()\n\u001B[1;32m-> 1277\u001B[0m \u001B[38;5;28;43mself\u001B[39;49m\u001B[38;5;241;43m.\u001B[39;49m\u001B[43m_send_output\u001B[49m\u001B[43m(\u001B[49m\u001B[43mmessage_body\u001B[49m\u001B[43m,\u001B[49m\u001B[43m \u001B[49m\u001B[43mencode_chunked\u001B[49m\u001B[38;5;241;43m=\u001B[39;49m\u001B[43mencode_chunked\u001B[49m\u001B[43m)\u001B[49m\n",
      "File \u001B[1;32m~\\AppData\\Local\\Programs\\Python\\Python311\\Lib\\http\\client.py:1037\u001B[0m, in \u001B[0;36mHTTPConnection._send_output\u001B[1;34m(self, message_body, encode_chunked)\u001B[0m\n\u001B[0;32m   1036\u001B[0m \u001B[38;5;28;01mdel\u001B[39;00m \u001B[38;5;28mself\u001B[39m\u001B[38;5;241m.\u001B[39m_buffer[:]\n\u001B[1;32m-> 1037\u001B[0m \u001B[38;5;28;43mself\u001B[39;49m\u001B[38;5;241;43m.\u001B[39;49m\u001B[43msend\u001B[49m\u001B[43m(\u001B[49m\u001B[43mmsg\u001B[49m\u001B[43m)\u001B[49m\n\u001B[0;32m   1039\u001B[0m \u001B[38;5;28;01mif\u001B[39;00m message_body \u001B[38;5;129;01mis\u001B[39;00m \u001B[38;5;129;01mnot\u001B[39;00m \u001B[38;5;28;01mNone\u001B[39;00m:\n\u001B[0;32m   1040\u001B[0m \n\u001B[0;32m   1041\u001B[0m     \u001B[38;5;66;03m# create a consistent interface to message_body\u001B[39;00m\n",
      "File \u001B[1;32m~\\AppData\\Local\\Programs\\Python\\Python311\\Lib\\http\\client.py:975\u001B[0m, in \u001B[0;36mHTTPConnection.send\u001B[1;34m(self, data)\u001B[0m\n\u001B[0;32m    974\u001B[0m \u001B[38;5;28;01mif\u001B[39;00m \u001B[38;5;28mself\u001B[39m\u001B[38;5;241m.\u001B[39mauto_open:\n\u001B[1;32m--> 975\u001B[0m     \u001B[38;5;28;43mself\u001B[39;49m\u001B[38;5;241;43m.\u001B[39;49m\u001B[43mconnect\u001B[49m\u001B[43m(\u001B[49m\u001B[43m)\u001B[49m\n\u001B[0;32m    976\u001B[0m \u001B[38;5;28;01melse\u001B[39;00m:\n",
      "File \u001B[1;32m~\\AppData\\Local\\Programs\\Python\\Python311\\Lib\\http\\client.py:1447\u001B[0m, in \u001B[0;36mHTTPSConnection.connect\u001B[1;34m(self)\u001B[0m\n\u001B[0;32m   1445\u001B[0m \u001B[38;5;124m\"\u001B[39m\u001B[38;5;124mConnect to a host on a given (SSL) port.\u001B[39m\u001B[38;5;124m\"\u001B[39m\n\u001B[1;32m-> 1447\u001B[0m \u001B[38;5;28;43msuper\u001B[39;49m\u001B[43m(\u001B[49m\u001B[43m)\u001B[49m\u001B[38;5;241;43m.\u001B[39;49m\u001B[43mconnect\u001B[49m\u001B[43m(\u001B[49m\u001B[43m)\u001B[49m\n\u001B[0;32m   1449\u001B[0m \u001B[38;5;28;01mif\u001B[39;00m \u001B[38;5;28mself\u001B[39m\u001B[38;5;241m.\u001B[39m_tunnel_host:\n",
      "File \u001B[1;32m~\\AppData\\Local\\Programs\\Python\\Python311\\Lib\\http\\client.py:941\u001B[0m, in \u001B[0;36mHTTPConnection.connect\u001B[1;34m(self)\u001B[0m\n\u001B[0;32m    940\u001B[0m sys\u001B[38;5;241m.\u001B[39maudit(\u001B[38;5;124m\"\u001B[39m\u001B[38;5;124mhttp.client.connect\u001B[39m\u001B[38;5;124m\"\u001B[39m, \u001B[38;5;28mself\u001B[39m, \u001B[38;5;28mself\u001B[39m\u001B[38;5;241m.\u001B[39mhost, \u001B[38;5;28mself\u001B[39m\u001B[38;5;241m.\u001B[39mport)\n\u001B[1;32m--> 941\u001B[0m \u001B[38;5;28mself\u001B[39m\u001B[38;5;241m.\u001B[39msock \u001B[38;5;241m=\u001B[39m \u001B[38;5;28;43mself\u001B[39;49m\u001B[38;5;241;43m.\u001B[39;49m\u001B[43m_create_connection\u001B[49m\u001B[43m(\u001B[49m\n\u001B[0;32m    942\u001B[0m \u001B[43m    \u001B[49m\u001B[43m(\u001B[49m\u001B[38;5;28;43mself\u001B[39;49m\u001B[38;5;241;43m.\u001B[39;49m\u001B[43mhost\u001B[49m\u001B[43m,\u001B[49m\u001B[38;5;28;43mself\u001B[39;49m\u001B[38;5;241;43m.\u001B[39;49m\u001B[43mport\u001B[49m\u001B[43m)\u001B[49m\u001B[43m,\u001B[49m\u001B[43m \u001B[49m\u001B[38;5;28;43mself\u001B[39;49m\u001B[38;5;241;43m.\u001B[39;49m\u001B[43mtimeout\u001B[49m\u001B[43m,\u001B[49m\u001B[43m \u001B[49m\u001B[38;5;28;43mself\u001B[39;49m\u001B[38;5;241;43m.\u001B[39;49m\u001B[43msource_address\u001B[49m\u001B[43m)\u001B[49m\n\u001B[0;32m    943\u001B[0m \u001B[38;5;66;03m# Might fail in OSs that don't implement TCP_NODELAY\u001B[39;00m\n",
      "File \u001B[1;32m~\\AppData\\Local\\Programs\\Python\\Python311\\Lib\\socket.py:851\u001B[0m, in \u001B[0;36mcreate_connection\u001B[1;34m(address, timeout, source_address, all_errors)\u001B[0m\n\u001B[0;32m    850\u001B[0m \u001B[38;5;28;01mif\u001B[39;00m \u001B[38;5;129;01mnot\u001B[39;00m all_errors:\n\u001B[1;32m--> 851\u001B[0m     \u001B[38;5;28;01mraise\u001B[39;00m exceptions[\u001B[38;5;241m0\u001B[39m]\n\u001B[0;32m    852\u001B[0m \u001B[38;5;28;01mraise\u001B[39;00m ExceptionGroup(\u001B[38;5;124m\"\u001B[39m\u001B[38;5;124mcreate_connection failed\u001B[39m\u001B[38;5;124m\"\u001B[39m, exceptions)\n",
      "File \u001B[1;32m~\\AppData\\Local\\Programs\\Python\\Python311\\Lib\\socket.py:836\u001B[0m, in \u001B[0;36mcreate_connection\u001B[1;34m(address, timeout, source_address, all_errors)\u001B[0m\n\u001B[0;32m    835\u001B[0m     sock\u001B[38;5;241m.\u001B[39mbind(source_address)\n\u001B[1;32m--> 836\u001B[0m \u001B[43msock\u001B[49m\u001B[38;5;241;43m.\u001B[39;49m\u001B[43mconnect\u001B[49m\u001B[43m(\u001B[49m\u001B[43msa\u001B[49m\u001B[43m)\u001B[49m\n\u001B[0;32m    837\u001B[0m \u001B[38;5;66;03m# Break explicitly a reference cycle\u001B[39;00m\n",
      "\u001B[1;31mTimeoutError\u001B[0m: [WinError 10060] A connection attempt failed because the connected party did not properly respond after a period of time, or established connection failed because connected host has failed to respond",
      "\nDuring handling of the above exception, another exception occurred:\n",
      "\u001B[1;31mURLError\u001B[0m                                  Traceback (most recent call last)",
      "Cell \u001B[1;32mIn[1], line 3\u001B[0m\n\u001B[0;32m      1\u001B[0m \u001B[38;5;28;01mimport\u001B[39;00m \u001B[38;5;21;01murllib\u001B[39;00m\n\u001B[1;32m----> 3\u001B[0m \u001B[43murllib\u001B[49m\u001B[38;5;241;43m.\u001B[39;49m\u001B[43mrequest\u001B[49m\u001B[38;5;241;43m.\u001B[39;49m\u001B[43murlretrieve\u001B[49m\u001B[43m(\u001B[49m\u001B[38;5;124;43m'\u001B[39;49m\u001B[38;5;124;43mhttps://sc.link/AO5l\u001B[39;49m\u001B[38;5;124;43m'\u001B[39;49m\u001B[43m,\u001B[49m\u001B[43m \u001B[49m\u001B[38;5;124;43m'\u001B[39;49m\u001B[38;5;124;43msubsample.zip\u001B[39;49m\u001B[38;5;124;43m'\u001B[39;49m\u001B[43m)\u001B[49m\n\u001B[0;32m      4\u001B[0m get_ipython()\u001B[38;5;241m.\u001B[39msystem(\u001B[38;5;124m'\u001B[39m\u001B[38;5;124mmkdir -p dataset/\u001B[39m\u001B[38;5;124m'\u001B[39m)\n\u001B[0;32m      5\u001B[0m get_ipython()\u001B[38;5;241m.\u001B[39msystem(\u001B[38;5;124m'\u001B[39m\u001B[38;5;124munzip -q subsample.zip -d dataset/subsample\u001B[39m\u001B[38;5;124m'\u001B[39m)\n",
      "File \u001B[1;32m~\\AppData\\Local\\Programs\\Python\\Python311\\Lib\\urllib\\request.py:241\u001B[0m, in \u001B[0;36murlretrieve\u001B[1;34m(url, filename, reporthook, data)\u001B[0m\n\u001B[0;32m    224\u001B[0m \u001B[38;5;250m\u001B[39m\u001B[38;5;124;03m\"\"\"\u001B[39;00m\n\u001B[0;32m    225\u001B[0m \u001B[38;5;124;03mRetrieve a URL into a temporary location on disk.\u001B[39;00m\n\u001B[0;32m    226\u001B[0m \n\u001B[1;32m   (...)\u001B[0m\n\u001B[0;32m    237\u001B[0m \u001B[38;5;124;03mdata file as well as the resulting HTTPMessage object.\u001B[39;00m\n\u001B[0;32m    238\u001B[0m \u001B[38;5;124;03m\"\"\"\u001B[39;00m\n\u001B[0;32m    239\u001B[0m url_type, path \u001B[38;5;241m=\u001B[39m _splittype(url)\n\u001B[1;32m--> 241\u001B[0m \u001B[38;5;28;01mwith\u001B[39;00m contextlib\u001B[38;5;241m.\u001B[39mclosing(\u001B[43murlopen\u001B[49m\u001B[43m(\u001B[49m\u001B[43murl\u001B[49m\u001B[43m,\u001B[49m\u001B[43m \u001B[49m\u001B[43mdata\u001B[49m\u001B[43m)\u001B[49m) \u001B[38;5;28;01mas\u001B[39;00m fp:\n\u001B[0;32m    242\u001B[0m     headers \u001B[38;5;241m=\u001B[39m fp\u001B[38;5;241m.\u001B[39minfo()\n\u001B[0;32m    244\u001B[0m     \u001B[38;5;66;03m# Just return the local path and the \"headers\" for file://\u001B[39;00m\n\u001B[0;32m    245\u001B[0m     \u001B[38;5;66;03m# URLs. No sense in performing a copy unless requested.\u001B[39;00m\n",
      "File \u001B[1;32m~\\AppData\\Local\\Programs\\Python\\Python311\\Lib\\urllib\\request.py:216\u001B[0m, in \u001B[0;36murlopen\u001B[1;34m(url, data, timeout, cafile, capath, cadefault, context)\u001B[0m\n\u001B[0;32m    214\u001B[0m \u001B[38;5;28;01melse\u001B[39;00m:\n\u001B[0;32m    215\u001B[0m     opener \u001B[38;5;241m=\u001B[39m _opener\n\u001B[1;32m--> 216\u001B[0m \u001B[38;5;28;01mreturn\u001B[39;00m \u001B[43mopener\u001B[49m\u001B[38;5;241;43m.\u001B[39;49m\u001B[43mopen\u001B[49m\u001B[43m(\u001B[49m\u001B[43murl\u001B[49m\u001B[43m,\u001B[49m\u001B[43m \u001B[49m\u001B[43mdata\u001B[49m\u001B[43m,\u001B[49m\u001B[43m \u001B[49m\u001B[43mtimeout\u001B[49m\u001B[43m)\u001B[49m\n",
      "File \u001B[1;32m~\\AppData\\Local\\Programs\\Python\\Python311\\Lib\\urllib\\request.py:525\u001B[0m, in \u001B[0;36mOpenerDirector.open\u001B[1;34m(self, fullurl, data, timeout)\u001B[0m\n\u001B[0;32m    523\u001B[0m \u001B[38;5;28;01mfor\u001B[39;00m processor \u001B[38;5;129;01min\u001B[39;00m \u001B[38;5;28mself\u001B[39m\u001B[38;5;241m.\u001B[39mprocess_response\u001B[38;5;241m.\u001B[39mget(protocol, []):\n\u001B[0;32m    524\u001B[0m     meth \u001B[38;5;241m=\u001B[39m \u001B[38;5;28mgetattr\u001B[39m(processor, meth_name)\n\u001B[1;32m--> 525\u001B[0m     response \u001B[38;5;241m=\u001B[39m \u001B[43mmeth\u001B[49m\u001B[43m(\u001B[49m\u001B[43mreq\u001B[49m\u001B[43m,\u001B[49m\u001B[43m \u001B[49m\u001B[43mresponse\u001B[49m\u001B[43m)\u001B[49m\n\u001B[0;32m    527\u001B[0m \u001B[38;5;28;01mreturn\u001B[39;00m response\n",
      "File \u001B[1;32m~\\AppData\\Local\\Programs\\Python\\Python311\\Lib\\urllib\\request.py:634\u001B[0m, in \u001B[0;36mHTTPErrorProcessor.http_response\u001B[1;34m(self, request, response)\u001B[0m\n\u001B[0;32m    631\u001B[0m \u001B[38;5;66;03m# According to RFC 2616, \"2xx\" code indicates that the client's\u001B[39;00m\n\u001B[0;32m    632\u001B[0m \u001B[38;5;66;03m# request was successfully received, understood, and accepted.\u001B[39;00m\n\u001B[0;32m    633\u001B[0m \u001B[38;5;28;01mif\u001B[39;00m \u001B[38;5;129;01mnot\u001B[39;00m (\u001B[38;5;241m200\u001B[39m \u001B[38;5;241m<\u001B[39m\u001B[38;5;241m=\u001B[39m code \u001B[38;5;241m<\u001B[39m \u001B[38;5;241m300\u001B[39m):\n\u001B[1;32m--> 634\u001B[0m     response \u001B[38;5;241m=\u001B[39m \u001B[38;5;28;43mself\u001B[39;49m\u001B[38;5;241;43m.\u001B[39;49m\u001B[43mparent\u001B[49m\u001B[38;5;241;43m.\u001B[39;49m\u001B[43merror\u001B[49m\u001B[43m(\u001B[49m\n\u001B[0;32m    635\u001B[0m \u001B[43m        \u001B[49m\u001B[38;5;124;43m'\u001B[39;49m\u001B[38;5;124;43mhttp\u001B[39;49m\u001B[38;5;124;43m'\u001B[39;49m\u001B[43m,\u001B[49m\u001B[43m \u001B[49m\u001B[43mrequest\u001B[49m\u001B[43m,\u001B[49m\u001B[43m \u001B[49m\u001B[43mresponse\u001B[49m\u001B[43m,\u001B[49m\u001B[43m \u001B[49m\u001B[43mcode\u001B[49m\u001B[43m,\u001B[49m\u001B[43m \u001B[49m\u001B[43mmsg\u001B[49m\u001B[43m,\u001B[49m\u001B[43m \u001B[49m\u001B[43mhdrs\u001B[49m\u001B[43m)\u001B[49m\n\u001B[0;32m    637\u001B[0m \u001B[38;5;28;01mreturn\u001B[39;00m response\n",
      "File \u001B[1;32m~\\AppData\\Local\\Programs\\Python\\Python311\\Lib\\urllib\\request.py:557\u001B[0m, in \u001B[0;36mOpenerDirector.error\u001B[1;34m(self, proto, *args)\u001B[0m\n\u001B[0;32m    555\u001B[0m     http_err \u001B[38;5;241m=\u001B[39m \u001B[38;5;241m0\u001B[39m\n\u001B[0;32m    556\u001B[0m args \u001B[38;5;241m=\u001B[39m (\u001B[38;5;28mdict\u001B[39m, proto, meth_name) \u001B[38;5;241m+\u001B[39m args\n\u001B[1;32m--> 557\u001B[0m result \u001B[38;5;241m=\u001B[39m \u001B[38;5;28;43mself\u001B[39;49m\u001B[38;5;241;43m.\u001B[39;49m\u001B[43m_call_chain\u001B[49m\u001B[43m(\u001B[49m\u001B[38;5;241;43m*\u001B[39;49m\u001B[43margs\u001B[49m\u001B[43m)\u001B[49m\n\u001B[0;32m    558\u001B[0m \u001B[38;5;28;01mif\u001B[39;00m result:\n\u001B[0;32m    559\u001B[0m     \u001B[38;5;28;01mreturn\u001B[39;00m result\n",
      "File \u001B[1;32m~\\AppData\\Local\\Programs\\Python\\Python311\\Lib\\urllib\\request.py:496\u001B[0m, in \u001B[0;36mOpenerDirector._call_chain\u001B[1;34m(self, chain, kind, meth_name, *args)\u001B[0m\n\u001B[0;32m    494\u001B[0m \u001B[38;5;28;01mfor\u001B[39;00m handler \u001B[38;5;129;01min\u001B[39;00m handlers:\n\u001B[0;32m    495\u001B[0m     func \u001B[38;5;241m=\u001B[39m \u001B[38;5;28mgetattr\u001B[39m(handler, meth_name)\n\u001B[1;32m--> 496\u001B[0m     result \u001B[38;5;241m=\u001B[39m \u001B[43mfunc\u001B[49m\u001B[43m(\u001B[49m\u001B[38;5;241;43m*\u001B[39;49m\u001B[43margs\u001B[49m\u001B[43m)\u001B[49m\n\u001B[0;32m    497\u001B[0m     \u001B[38;5;28;01mif\u001B[39;00m result \u001B[38;5;129;01mis\u001B[39;00m \u001B[38;5;129;01mnot\u001B[39;00m \u001B[38;5;28;01mNone\u001B[39;00m:\n\u001B[0;32m    498\u001B[0m         \u001B[38;5;28;01mreturn\u001B[39;00m result\n",
      "File \u001B[1;32m~\\AppData\\Local\\Programs\\Python\\Python311\\Lib\\urllib\\request.py:749\u001B[0m, in \u001B[0;36mHTTPRedirectHandler.http_error_302\u001B[1;34m(self, req, fp, code, msg, headers)\u001B[0m\n\u001B[0;32m    746\u001B[0m fp\u001B[38;5;241m.\u001B[39mread()\n\u001B[0;32m    747\u001B[0m fp\u001B[38;5;241m.\u001B[39mclose()\n\u001B[1;32m--> 749\u001B[0m \u001B[38;5;28;01mreturn\u001B[39;00m \u001B[38;5;28;43mself\u001B[39;49m\u001B[38;5;241;43m.\u001B[39;49m\u001B[43mparent\u001B[49m\u001B[38;5;241;43m.\u001B[39;49m\u001B[43mopen\u001B[49m\u001B[43m(\u001B[49m\u001B[43mnew\u001B[49m\u001B[43m,\u001B[49m\u001B[43m \u001B[49m\u001B[43mtimeout\u001B[49m\u001B[38;5;241;43m=\u001B[39;49m\u001B[43mreq\u001B[49m\u001B[38;5;241;43m.\u001B[39;49m\u001B[43mtimeout\u001B[49m\u001B[43m)\u001B[49m\n",
      "File \u001B[1;32m~\\AppData\\Local\\Programs\\Python\\Python311\\Lib\\urllib\\request.py:519\u001B[0m, in \u001B[0;36mOpenerDirector.open\u001B[1;34m(self, fullurl, data, timeout)\u001B[0m\n\u001B[0;32m    516\u001B[0m     req \u001B[38;5;241m=\u001B[39m meth(req)\n\u001B[0;32m    518\u001B[0m sys\u001B[38;5;241m.\u001B[39maudit(\u001B[38;5;124m'\u001B[39m\u001B[38;5;124murllib.Request\u001B[39m\u001B[38;5;124m'\u001B[39m, req\u001B[38;5;241m.\u001B[39mfull_url, req\u001B[38;5;241m.\u001B[39mdata, req\u001B[38;5;241m.\u001B[39mheaders, req\u001B[38;5;241m.\u001B[39mget_method())\n\u001B[1;32m--> 519\u001B[0m response \u001B[38;5;241m=\u001B[39m \u001B[38;5;28;43mself\u001B[39;49m\u001B[38;5;241;43m.\u001B[39;49m\u001B[43m_open\u001B[49m\u001B[43m(\u001B[49m\u001B[43mreq\u001B[49m\u001B[43m,\u001B[49m\u001B[43m \u001B[49m\u001B[43mdata\u001B[49m\u001B[43m)\u001B[49m\n\u001B[0;32m    521\u001B[0m \u001B[38;5;66;03m# post-process response\u001B[39;00m\n\u001B[0;32m    522\u001B[0m meth_name \u001B[38;5;241m=\u001B[39m protocol\u001B[38;5;241m+\u001B[39m\u001B[38;5;124m\"\u001B[39m\u001B[38;5;124m_response\u001B[39m\u001B[38;5;124m\"\u001B[39m\n",
      "File \u001B[1;32m~\\AppData\\Local\\Programs\\Python\\Python311\\Lib\\urllib\\request.py:536\u001B[0m, in \u001B[0;36mOpenerDirector._open\u001B[1;34m(self, req, data)\u001B[0m\n\u001B[0;32m    533\u001B[0m     \u001B[38;5;28;01mreturn\u001B[39;00m result\n\u001B[0;32m    535\u001B[0m protocol \u001B[38;5;241m=\u001B[39m req\u001B[38;5;241m.\u001B[39mtype\n\u001B[1;32m--> 536\u001B[0m result \u001B[38;5;241m=\u001B[39m \u001B[38;5;28;43mself\u001B[39;49m\u001B[38;5;241;43m.\u001B[39;49m\u001B[43m_call_chain\u001B[49m\u001B[43m(\u001B[49m\u001B[38;5;28;43mself\u001B[39;49m\u001B[38;5;241;43m.\u001B[39;49m\u001B[43mhandle_open\u001B[49m\u001B[43m,\u001B[49m\u001B[43m \u001B[49m\u001B[43mprotocol\u001B[49m\u001B[43m,\u001B[49m\u001B[43m \u001B[49m\u001B[43mprotocol\u001B[49m\u001B[43m \u001B[49m\u001B[38;5;241;43m+\u001B[39;49m\n\u001B[0;32m    537\u001B[0m \u001B[43m                          \u001B[49m\u001B[38;5;124;43m'\u001B[39;49m\u001B[38;5;124;43m_open\u001B[39;49m\u001B[38;5;124;43m'\u001B[39;49m\u001B[43m,\u001B[49m\u001B[43m \u001B[49m\u001B[43mreq\u001B[49m\u001B[43m)\u001B[49m\n\u001B[0;32m    538\u001B[0m \u001B[38;5;28;01mif\u001B[39;00m result:\n\u001B[0;32m    539\u001B[0m     \u001B[38;5;28;01mreturn\u001B[39;00m result\n",
      "File \u001B[1;32m~\\AppData\\Local\\Programs\\Python\\Python311\\Lib\\urllib\\request.py:496\u001B[0m, in \u001B[0;36mOpenerDirector._call_chain\u001B[1;34m(self, chain, kind, meth_name, *args)\u001B[0m\n\u001B[0;32m    494\u001B[0m \u001B[38;5;28;01mfor\u001B[39;00m handler \u001B[38;5;129;01min\u001B[39;00m handlers:\n\u001B[0;32m    495\u001B[0m     func \u001B[38;5;241m=\u001B[39m \u001B[38;5;28mgetattr\u001B[39m(handler, meth_name)\n\u001B[1;32m--> 496\u001B[0m     result \u001B[38;5;241m=\u001B[39m \u001B[43mfunc\u001B[49m\u001B[43m(\u001B[49m\u001B[38;5;241;43m*\u001B[39;49m\u001B[43margs\u001B[49m\u001B[43m)\u001B[49m\n\u001B[0;32m    497\u001B[0m     \u001B[38;5;28;01mif\u001B[39;00m result \u001B[38;5;129;01mis\u001B[39;00m \u001B[38;5;129;01mnot\u001B[39;00m \u001B[38;5;28;01mNone\u001B[39;00m:\n\u001B[0;32m    498\u001B[0m         \u001B[38;5;28;01mreturn\u001B[39;00m result\n",
      "File \u001B[1;32m~\\AppData\\Local\\Programs\\Python\\Python311\\Lib\\urllib\\request.py:1391\u001B[0m, in \u001B[0;36mHTTPSHandler.https_open\u001B[1;34m(self, req)\u001B[0m\n\u001B[0;32m   1390\u001B[0m \u001B[38;5;28;01mdef\u001B[39;00m \u001B[38;5;21mhttps_open\u001B[39m(\u001B[38;5;28mself\u001B[39m, req):\n\u001B[1;32m-> 1391\u001B[0m     \u001B[38;5;28;01mreturn\u001B[39;00m \u001B[38;5;28;43mself\u001B[39;49m\u001B[38;5;241;43m.\u001B[39;49m\u001B[43mdo_open\u001B[49m\u001B[43m(\u001B[49m\u001B[43mhttp\u001B[49m\u001B[38;5;241;43m.\u001B[39;49m\u001B[43mclient\u001B[49m\u001B[38;5;241;43m.\u001B[39;49m\u001B[43mHTTPSConnection\u001B[49m\u001B[43m,\u001B[49m\u001B[43m \u001B[49m\u001B[43mreq\u001B[49m\u001B[43m,\u001B[49m\n\u001B[0;32m   1392\u001B[0m \u001B[43m        \u001B[49m\u001B[43mcontext\u001B[49m\u001B[38;5;241;43m=\u001B[39;49m\u001B[38;5;28;43mself\u001B[39;49m\u001B[38;5;241;43m.\u001B[39;49m\u001B[43m_context\u001B[49m\u001B[43m,\u001B[49m\u001B[43m \u001B[49m\u001B[43mcheck_hostname\u001B[49m\u001B[38;5;241;43m=\u001B[39;49m\u001B[38;5;28;43mself\u001B[39;49m\u001B[38;5;241;43m.\u001B[39;49m\u001B[43m_check_hostname\u001B[49m\u001B[43m)\u001B[49m\n",
      "File \u001B[1;32m~\\AppData\\Local\\Programs\\Python\\Python311\\Lib\\urllib\\request.py:1351\u001B[0m, in \u001B[0;36mAbstractHTTPHandler.do_open\u001B[1;34m(self, http_class, req, **http_conn_args)\u001B[0m\n\u001B[0;32m   1348\u001B[0m         h\u001B[38;5;241m.\u001B[39mrequest(req\u001B[38;5;241m.\u001B[39mget_method(), req\u001B[38;5;241m.\u001B[39mselector, req\u001B[38;5;241m.\u001B[39mdata, headers,\n\u001B[0;32m   1349\u001B[0m                   encode_chunked\u001B[38;5;241m=\u001B[39mreq\u001B[38;5;241m.\u001B[39mhas_header(\u001B[38;5;124m'\u001B[39m\u001B[38;5;124mTransfer-encoding\u001B[39m\u001B[38;5;124m'\u001B[39m))\n\u001B[0;32m   1350\u001B[0m     \u001B[38;5;28;01mexcept\u001B[39;00m \u001B[38;5;167;01mOSError\u001B[39;00m \u001B[38;5;28;01mas\u001B[39;00m err: \u001B[38;5;66;03m# timeout error\u001B[39;00m\n\u001B[1;32m-> 1351\u001B[0m         \u001B[38;5;28;01mraise\u001B[39;00m URLError(err)\n\u001B[0;32m   1352\u001B[0m     r \u001B[38;5;241m=\u001B[39m h\u001B[38;5;241m.\u001B[39mgetresponse()\n\u001B[0;32m   1353\u001B[0m \u001B[38;5;28;01mexcept\u001B[39;00m:\n",
      "\u001B[1;31mURLError\u001B[0m: <urlopen error [WinError 10060] A connection attempt failed because the connected party did not properly respond after a period of time, or established connection failed because connected host has failed to respond>"
     ]
    }
   ]
  },
  {
   "cell_type": "code",
   "source": [
    "import os\n",
    "import json\n",
    "import logging\n",
    "import random\n",
    "from tqdm import tqdm\n",
    "from collections import defaultdict\n",
    "from typing import Tuple\n",
    "from glob import glob\n",
    "\n",
    "import pandas as pd\n",
    "import numpy as np\n",
    "\n",
    "from PIL import Image, ImageOps\n",
    "import os\n",
    "from ipywidgets import interact\n",
    "from IPython.display import Image as DImage\n",
    "import cv2\n",
    "\n",
    "import torch\n",
    "from torch import nn, Tensor\n",
    "from torchvision import models\n",
    "from torchvision.transforms import Compose\n",
    "from torchvision.transforms import functional as F\n",
    "from torchvision import transforms as T\n",
    "from torchmetrics.detection.mean_ap import MeanAveragePrecision\n",
    "\n",
    "import warnings\n",
    "warnings.filterwarnings('ignore')"
   ],
   "metadata": {
    "execution": {
     "iopub.status.busy": "2022-10-22T14:49:15.822909Z",
     "iopub.execute_input": "2022-10-22T14:49:15.823266Z",
     "iopub.status.idle": "2022-10-22T14:49:15.830443Z",
     "shell.execute_reply.started": "2022-10-22T14:49:15.823231Z",
     "shell.execute_reply": "2022-10-22T14:49:15.829696Z"
    },
    "trusted": true
   },
   "execution_count": null,
   "outputs": []
  },
  {
   "cell_type": "code",
   "source": [
    "class_names = [\n",
    "   'call',\n",
    "   'dislike',\n",
    "   'fist',\n",
    "   'four',\n",
    "   'like',\n",
    "   'mute',\n",
    "   'ok',\n",
    "   'one',\n",
    "   'palm',\n",
    "   'peace_inverted',\n",
    "   'peace',\n",
    "   'rock',\n",
    "   'stop_inverted',\n",
    "   'stop',\n",
    "   'three',\n",
    "   'three2',\n",
    "   'two_up',\n",
    "   'two_up_inverted',\n",
    "   'no_gesture']\n",
    "\n",
    "FORMATS = (\".jpeg\", \".jpg\", \".jp2\", \".png\", \".tiff\", \".jfif\", \".bmp\", \".webp\", \".heic\")"
   ],
   "metadata": {
    "execution": {
     "iopub.status.busy": "2022-10-22T14:49:15.831904Z",
     "iopub.execute_input": "2022-10-22T14:49:15.832475Z",
     "iopub.status.idle": "2022-10-22T14:49:20.414205Z",
     "shell.execute_reply.started": "2022-10-22T14:49:15.832416Z",
     "shell.execute_reply": "2022-10-22T14:49:20.412978Z"
    },
    "trusted": true
   },
   "execution_count": null,
   "outputs": []
  },
  {
   "cell_type": "markdown",
   "source": [
    "### Dataset loader class"
   ],
   "metadata": {}
  },
  {
   "cell_type": "code",
   "source": [
    "transform = T.ToTensor()\n",
    "\n",
    "\n",
    "class GestureDataset(torch.utils.data.Dataset):\n",
    "\n",
    "    @staticmethod\n",
    "    def __get_files_from_dir(pth: str, extns: Tuple):\n",
    "        if not os.path.exists(pth):\n",
    "            print(f\"Dataset directory doesn't exist {pth}\")\n",
    "            return []\n",
    "        files = [f for f in os.listdir(pth) if f.endswith(extns)]\n",
    "        return files\n",
    "\n",
    "    def __read_annotations(self, path):\n",
    "        annotations_all = None\n",
    "        exists_images = []\n",
    "        for target in class_names:\n",
    "            path_to_csv = os.path.join(path, f\"{target}.json\")\n",
    "            if os.path.exists(path_to_csv):\n",
    "                json_annotation = json.load(open(\n",
    "                    os.path.join(path, f\"{target}.json\")\n",
    "                ))\n",
    "\n",
    "                json_annotation = [dict(annotation, **{\"name\": f\"{name}.jpg\"}) for name, annotation in\n",
    "                                   zip(json_annotation, json_annotation.values())]\n",
    "\n",
    "                annotation = pd.DataFrame(json_annotation)\n",
    "\n",
    "                annotation[\"target\"] = target\n",
    "                annotations_all = pd.concat([annotations_all, annotation], ignore_index=True)\n",
    "                exists_images.extend(\n",
    "                    self.__get_files_from_dir(os.path.join(self.path_images, target), FORMATS))\n",
    "            else:\n",
    "                if target != 'no_gesture':\n",
    "                    print(f\"Database for {target} not found\")\n",
    "\n",
    "        annotations_all[\"exists\"] = annotations_all[\"name\"].isin(exists_images)\n",
    "\n",
    "        annotations_all = annotations_all[annotations_all[\"exists\"]]\n",
    "\n",
    "        users = annotations_all[\"user_id\"].unique()\n",
    "        users = sorted(users)\n",
    "        random.Random(42).shuffle(users)\n",
    "        train_users = users[:int(len(users) * 0.8)]\n",
    "        val_users = users[int(len(users) * 0.8):]\n",
    "\n",
    "        annotations_all = annotations_all.copy()\n",
    "\n",
    "        if self.is_train:\n",
    "            annotations_all = annotations_all[annotations_all[\"user_id\"].isin(train_users)]\n",
    "        else:\n",
    "            annotations_all = annotations_all[annotations_all[\"user_id\"].isin(val_users)]\n",
    "\n",
    "        return annotations_all\n",
    "\n",
    "    def __init__(self, path_annotation, path_images, is_train, transform=None):\n",
    "        self.is_train = is_train\n",
    "        self.transform = transform\n",
    "        self.path_annotation = path_annotation\n",
    "        self.path_images = path_images\n",
    "        self.transform = transform\n",
    "        self.labels = {label: num for (label, num) in\n",
    "                       zip(class_names, range(len(class_names)))}\n",
    "        self.annotations = self.__read_annotations(self.path_annotation)\n",
    "\n",
    "    def __len__(self):\n",
    "        return self.annotations.shape[0]\n",
    "\n",
    "    def get_sample(self, index: int):\n",
    "        row = self.annotations.iloc[[index]].to_dict('records')[0]\n",
    "        image_pth = os.path.join(self.path_images, row[\"target\"], row[\"name\"])\n",
    "        image = Image.open(image_pth).convert(\"RGB\")\n",
    "\n",
    "        labels = torch.LongTensor([self.labels[label] for label in row[\"labels\"]])\n",
    "\n",
    "        target = {}\n",
    "        width, height = image.size\n",
    "\n",
    "        bboxes = []\n",
    "\n",
    "        for bbox in row[\"bboxes\"]:\n",
    "            x1, y1, w, h = bbox\n",
    "            bbox_abs = [x1 * width, y1 * height, (x1 + w) * width, (y1 + h) * height]\n",
    "            bboxes.append(bbox_abs)\n",
    "\n",
    "        target[\"labels\"] = labels\n",
    "        target[\"boxes\"] = torch.as_tensor(bboxes, dtype=torch.float32)\n",
    "        target[\"orig_size\"] = torch.as_tensor([int(height), int(width)])\n",
    "\n",
    "        return image, target\n",
    "\n",
    "    def __getitem__(self, index: int):\n",
    "        image, target = self.get_sample(index)\n",
    "        if self.transform:\n",
    "            image = self.transform(image)\n",
    "        return image, target"
   ],
   "metadata": {
    "execution": {
     "iopub.status.busy": "2022-10-22T14:49:20.418221Z",
     "iopub.execute_input": "2022-10-22T14:49:20.418672Z",
     "iopub.status.idle": "2022-10-22T14:49:20.438811Z",
     "shell.execute_reply.started": "2022-10-22T14:49:20.418642Z",
     "shell.execute_reply": "2022-10-22T14:49:20.43783Z"
    },
    "trusted": true
   },
   "execution_count": null,
   "outputs": []
  },
  {
   "cell_type": "markdown",
   "source": [
    "## Setting some constants for training"
   ],
   "metadata": {}
  },
  {
   "cell_type": "code",
   "source": [
    "random_seed = 42\n",
    "num_classes = len(class_names)\n",
    "batch_size = 16\n",
    "num_epoch = 15\n",
    "torch.manual_seed(random_seed)\n",
    "np.random.seed(random_seed)\n",
    "random.seed(random_seed)\n",
    "device = torch.device('cuda' if torch.cuda.is_available() else 'cpu')"
   ],
   "metadata": {
    "execution": {
     "iopub.status.busy": "2022-10-22T14:49:20.439902Z",
     "iopub.execute_input": "2022-10-22T14:49:20.440483Z",
     "iopub.status.idle": "2022-10-22T14:49:20.453675Z",
     "shell.execute_reply.started": "2022-10-22T14:49:20.44043Z",
     "shell.execute_reply": "2022-10-22T14:49:20.452952Z"
    },
    "trusted": true
   },
   "execution_count": null,
   "outputs": []
  },
  {
   "cell_type": "code",
   "source": [
    "train_data = GestureDataset(path_images='/kaggle/working/dataset/subsample',\n",
    "                            path_annotation='/kaggle/working/dataset/ann_subsample',\n",
    "                            is_train=True, transform=transform)\n",
    "\n",
    "test_data = GestureDataset(path_images='/kaggle/working/dataset/subsample',\n",
    "                            path_annotation='/kaggle/working/dataset/ann_subsample',\n",
    "                            is_train=False, transform=transform)"
   ],
   "metadata": {
    "execution": {
     "iopub.status.busy": "2022-10-22T14:49:20.454923Z",
     "iopub.execute_input": "2022-10-22T14:49:20.455865Z",
     "iopub.status.idle": "2022-10-22T14:49:20.947971Z",
     "shell.execute_reply.started": "2022-10-22T14:49:20.455828Z",
     "shell.execute_reply": "2022-10-22T14:49:20.946877Z"
    },
    "trusted": true
   },
   "execution_count": null,
   "outputs": []
  },
  {
   "cell_type": "code",
   "source": [
    "def collate_fn(batch):\n",
    "    batch_targets = list()\n",
    "    images = list()\n",
    "\n",
    "    for b in batch:\n",
    "        images.append(b[0])\n",
    "        batch_targets.append({\"boxes\": b[1][\"boxes\"],\n",
    "                              \"labels\": b[1][\"labels\"]})\n",
    "    return images, batch_targets"
   ],
   "metadata": {
    "execution": {
     "iopub.status.busy": "2022-10-22T14:49:20.949571Z",
     "iopub.execute_input": "2022-10-22T14:49:20.950257Z",
     "iopub.status.idle": "2022-10-22T14:49:20.962067Z",
     "shell.execute_reply.started": "2022-10-22T14:49:20.950212Z",
     "shell.execute_reply": "2022-10-22T14:49:20.960593Z"
    },
    "trusted": true
   },
   "execution_count": null,
   "outputs": []
  },
  {
   "cell_type": "code",
   "source": [
    "train_dataloader = torch.utils.data.DataLoader(train_data, batch_size=batch_size,collate_fn=collate_fn, shuffle=True, num_workers=4)\n",
    "test_dataloader = torch.utils.data.DataLoader(test_data, batch_size=batch_size,collate_fn=collate_fn, shuffle=True, num_workers=4)"
   ],
   "metadata": {
    "execution": {
     "iopub.status.busy": "2022-10-22T14:49:20.963513Z",
     "iopub.execute_input": "2022-10-22T14:49:20.964394Z",
     "iopub.status.idle": "2022-10-22T14:49:20.972666Z",
     "shell.execute_reply.started": "2022-10-22T14:49:20.964367Z",
     "shell.execute_reply": "2022-10-22T14:49:20.971847Z"
    },
    "trusted": true
   },
   "execution_count": null,
   "outputs": []
  },
  {
   "cell_type": "markdown",
   "source": [
    "## Loading a pretrained framework and creating a model class"
   ],
   "metadata": {}
  },
  {
   "cell_type": "code",
   "source": [
    "lr = 0.005\n",
    "momentum = 0.9\n",
    "weight_decay = 5e-4"
   ],
   "metadata": {
    "execution": {
     "iopub.status.busy": "2022-10-22T14:49:20.97396Z",
     "iopub.execute_input": "2022-10-22T14:49:20.974383Z",
     "iopub.status.idle": "2022-10-22T14:49:20.982005Z",
     "shell.execute_reply.started": "2022-10-22T14:49:20.974349Z",
     "shell.execute_reply": "2022-10-22T14:49:20.98121Z"
    },
    "trusted": true
   },
   "execution_count": null,
   "outputs": []
  },
  {
   "cell_type": "code",
   "source": [
    "model = models.detection.ssdlite320_mobilenet_v3_large(num_classes=len(class_names) + 1, pretrained_backbone=True)\n",
    "model.to(device)\n",
    "\n",
    "optimizer = torch.optim.SGD(model.parameters(), lr=lr, momentum=momentum, weight_decay=weight_decay)"
   ],
   "metadata": {
    "execution": {
     "iopub.status.busy": "2022-10-22T14:49:20.985194Z",
     "iopub.execute_input": "2022-10-22T14:49:20.985544Z",
     "iopub.status.idle": "2022-10-22T14:49:21.326639Z",
     "shell.execute_reply.started": "2022-10-22T14:49:20.985515Z",
     "shell.execute_reply": "2022-10-22T14:49:21.325479Z"
    },
    "trusted": true
   },
   "execution_count": null,
   "outputs": []
  },
  {
   "cell_type": "code",
   "source": [
    "warmup_factor = 1.0 / 1000\n",
    "warmup_iters = min(1000, len(train_data) - 1)\n",
    "\n",
    "lr_scheduler_warmup = torch.optim.lr_scheduler.LinearLR(\n",
    "    optimizer, start_factor=warmup_factor, total_iters=warmup_iters\n",
    ")"
   ],
   "metadata": {
    "execution": {
     "iopub.status.busy": "2022-10-22T14:49:21.328001Z",
     "iopub.execute_input": "2022-10-22T14:49:21.328806Z",
     "iopub.status.idle": "2022-10-22T14:49:21.334623Z",
     "shell.execute_reply.started": "2022-10-22T14:49:21.32875Z",
     "shell.execute_reply": "2022-10-22T14:49:21.333792Z"
    },
    "trusted": true
   },
   "execution_count": null,
   "outputs": []
  },
  {
   "cell_type": "markdown",
   "source": [
    "## Evaluation function for calculate mAP metric"
   ],
   "metadata": {}
  },
  {
   "cell_type": "code",
   "source": [
    "def eval(model, test_dataloader, epoch):\n",
    "    model.eval()\n",
    "    with torch.no_grad():\n",
    "        mapmetric = MeanAveragePrecision()\n",
    "        \n",
    "        for images, targets in test_dataloader:\n",
    "            images = list(image.to(device) for image in images)\n",
    "            output = model(images)\n",
    "            \n",
    "            for pred in output:\n",
    "                for key, value in pred.items():\n",
    "                    pred[key] = value.cpu()\n",
    "                    \n",
    "            mapmetric.update(output, targets)\n",
    "\n",
    "    metrics = mapmetric.compute()\n",
    "    return metrics"
   ],
   "metadata": {
    "execution": {
     "iopub.status.busy": "2022-10-22T14:49:21.335785Z",
     "iopub.execute_input": "2022-10-22T14:49:21.336396Z",
     "iopub.status.idle": "2022-10-22T14:49:21.345994Z",
     "shell.execute_reply.started": "2022-10-22T14:49:21.33636Z",
     "shell.execute_reply": "2022-10-22T14:49:21.345207Z"
    },
    "trusted": true
   },
   "execution_count": null,
   "outputs": []
  },
  {
   "cell_type": "markdown",
   "source": [
    "## Training loop"
   ],
   "metadata": {}
  },
  {
   "cell_type": "code",
   "source": [
    "!mkdir checkpoints\n",
    "for epoch in range(num_epoch):\n",
    "    model.train()\n",
    "    total = 0\n",
    "    sum_loss = 0\n",
    "    for images, targets in tqdm(train_dataloader):\n",
    "        batch = len(images)\n",
    "        images = list(image.to(device) for image in images)\n",
    "        for target in targets:\n",
    "            for key, value in target.items():\n",
    "                target[key] = value.to(device)\n",
    "        loss_dict = model(images, targets)\n",
    "        losses = sum(loss for loss in loss_dict.values())\n",
    "        loss = losses.item()\n",
    "\n",
    "        optimizer.zero_grad()\n",
    "        losses.backward()\n",
    "        optimizer.step()\n",
    "\n",
    "        lr_scheduler_warmup.step()\n",
    "\n",
    "        total = total + batch\n",
    "        sum_loss = sum_loss + loss\n",
    "    metrics = eval(model, test_dataloader, epoch)\n",
    "    print(f\"epoch : {epoch}  |||  loss : {sum_loss / total} ||| MAP : {metrics['map']}\")\n",
    "torch.save(model.state_dict(),f\"checkpoints/{epoch}.pth\")"
   ],
   "metadata": {
    "execution": {
     "iopub.status.busy": "2022-10-22T14:49:21.347412Z",
     "iopub.execute_input": "2022-10-22T14:49:21.347873Z"
    },
    "trusted": true
   },
   "execution_count": null,
   "outputs": []
  },
  {
   "cell_type": "markdown",
   "source": [
    "## Test model"
   ],
   "metadata": {}
  },
  {
   "cell_type": "code",
   "source": [
    "images = []\n",
    "for gesture in class_names[:-1]:\n",
    "    image_path = glob(f'/kaggle/working/dataset/subsample/{gesture}/*.jpg')[0]\n",
    "    images.append(Image.open(image_path))\n",
    "    "
   ],
   "metadata": {
    "trusted": true
   },
   "execution_count": null,
   "outputs": []
  },
  {
   "cell_type": "code",
   "source": [
    "images_tensors = images.copy()\n",
    "images_tensors_input = list(transform(image).to(device) for image in images_tensors)"
   ],
   "metadata": {
    "trusted": true
   },
   "execution_count": null,
   "outputs": []
  },
  {
   "cell_type": "code",
   "source": [
    "with torch.no_grad():\n",
    "    model.eval()\n",
    "    out = model(images_tensors_input)"
   ],
   "metadata": {
    "trusted": true
   },
   "execution_count": null,
   "outputs": []
  },
  {
   "cell_type": "markdown",
   "source": [
    "### Set the score **threshold = 0.2** because the training model on a small dataset will be of poor quality"
   ],
   "metadata": {}
  },
  {
   "cell_type": "code",
   "source": [
    "bboxes = []\n",
    "scores = []\n",
    "labels = []\n",
    "for pred in out:\n",
    "    ids = pred['scores'] >= 0.2\n",
    "    bboxes.append(pred['boxes'][ids][:2].cpu().numpy().astype(np.int))\n",
    "    scores.append(pred['scores'][ids][:2].cpu().numpy())\n",
    "    labels.append(pred['labels'][ids][:2].cpu().numpy())"
   ],
   "metadata": {
    "trusted": true
   },
   "execution_count": null,
   "outputs": []
  },
  {
   "cell_type": "code",
   "source": [
    "short_class_names = []\n",
    "\n",
    "for name in class_names:\n",
    "    if name == 'stop_inverted':\n",
    "        short_class_names.append('stop inv.')\n",
    "    elif name == 'peace_inverted':\n",
    "        short_class_names.append('peace inv.')\n",
    "    elif name == 'two_up':\n",
    "        short_class_names.append('two up')\n",
    "    elif name == 'two_up_inverted':\n",
    "        short_class_names.append('two up inv.')\n",
    "    elif name == 'no_gesture':\n",
    "        short_class_names.append('no gesture')\n",
    "    else:\n",
    "        short_class_names.append(name)"
   ],
   "metadata": {
    "trusted": true
   },
   "execution_count": null,
   "outputs": []
  },
  {
   "cell_type": "code",
   "source": [
    "final_images = []\n",
    "for bbox, score, label, image in zip(bboxes, scores, labels, images):\n",
    "    image = np.array(image)\n",
    "    for i, box in enumerate(bbox):\n",
    "        _,width,_  = image.shape\n",
    "        image = cv2.rectangle(image, box[:2], box[2:], thickness=3, color=[255, 0, 255])\n",
    "        cv2.putText(image, f'{short_class_names[label[i]]}: {score[i]:0.2f}', (box[0], box[1]), cv2.FONT_HERSHEY_SIMPLEX,\n",
    "                        width / 780, (0, 0, 255), 2)\n",
    "    final_images.append(Image.fromarray(image))"
   ],
   "metadata": {
    "trusted": true
   },
   "execution_count": null,
   "outputs": []
  },
  {
   "cell_type": "code",
   "source": [
    "!mkdir out_images\n",
    "out_images = []\n",
    "for i, image in enumerate(final_images):\n",
    "    out_name = f\"out_images/{i}.png\"\n",
    "    out_images.append(out_name)\n",
    "    image.save(out_name)"
   ],
   "metadata": {
    "trusted": true
   },
   "execution_count": null,
   "outputs": []
  },
  {
   "cell_type": "markdown",
   "source": [
    "### Now we can look at the results of the model."
   ],
   "metadata": {}
  },
  {
   "cell_type": "code",
   "source": [
    "out_dir = \"out_images/\"\n",
    "@interact\n",
    "def show_images(file=os.listdir(out_dir)):\n",
    "    display(DImage(out_dir+file, width=600, height=300))"
   ],
   "metadata": {
    "trusted": true
   },
   "execution_count": null,
   "outputs": []
  },
  {
   "cell_type": "markdown",
   "source": [
    "## As we can see there are some problems with gesture detection. \n",
    "### This is due to the fact that the model was trained on a small data set. To get a better model train it on a full [Hagrid dataset](https://github.com/hukenovs/hagrid)."
   ],
   "metadata": {}
  }
 ]
}
